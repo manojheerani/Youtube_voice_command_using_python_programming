{
 "cells": [
  {
   "cell_type": "markdown",
   "metadata": {},
   "source": [
    "# YouTube Voice Command"
   ]
  },
  {
   "cell_type": "code",
   "execution_count": 26,
   "metadata": {},
   "outputs": [],
   "source": [
    "#Import Libraries\n",
    "import pafy # To collect Youtube metadata like view count.\n",
    "import speech_recognition as spr\n",
    "#import webbrowser as wb\n",
    "import requests\n",
    "from bs4 import BeautifulSoup\n",
    "import time\n",
    "from selenium import webdriver"
   ]
  },
  {
   "cell_type": "code",
   "execution_count": 30,
   "metadata": {},
   "outputs": [
    {
     "name": "stdout",
     "output_type": "stream",
     "text": [
      "Search Youtube video to play\n",
      "----------------------------\n",
      "You can speak now\n",
      "search for JavaScript search for JavaScript hello hello hello\n",
      "Searching for the video(s)...\n",
      "JavaScript JavaScript JavaScript JavaScript\n",
      "List of all links returned:\n",
      "['https://www.youtube.com/watch?v=W6NZfCO5SIk', 'https://www.youtube.com/watch?v=Sgf4lDlKYHg', 'https://www.youtube.com/watch?v=ppMlvGMT2qE', 'https://www.youtube.com/watch?v=Qqx_wzMmFeA']\n",
      "Best Link is:  https://r3---sn-ci5gup-jj06.googlevideo.com/videoplayback?expire=1598479084&ei=jIZGX6jYILihz7sPyN-2iAs&ip=118.91.187.107&id=o-AHuxVXEi8MXGFegAy1xUXYAOcx1BnuNoL0qoNKGE_iUJ&itag=22&source=youtube&requiressl=yes&mh=5G&mm=31%2C29&mn=sn-ci5gup-jj06%2Csn-qxaeen7e&ms=au%2Crdu&mv=m&mvi=3&pl=24&initcwndbps=317500&vprv=1&mime=video%2Fmp4&ratebypass=yes&dur=2896.689&lmt=1540706907681758&mt=1598457396&fvip=3&c=WEB&txp=5531432&sparams=expire%2Cei%2Cip%2Cid%2Citag%2Csource%2Crequiressl%2Cvprv%2Cmime%2Cratebypass%2Cdur%2Clmt&sig=AOq0QJ8wRQIhAM2htZt-7WgWpklq_cklTvDzfN25Te3OYSSArdtA8NcEAiB38PJTMU8pAyqgddgZ90-6IWJM91C2T1zTHjf9Qsrs1A%3D%3D&lsparams=mh%2Cmm%2Cmn%2Cms%2Cmv%2Cmvi%2Cpl%2Cinitcwndbps&lsig=AG3C_xAwRQIgHWGYMZDmV2sH76daHx3VQHAf52IxWgC76h3g44TmROUCIQDR0vUxOrK5-pHkrKwS6WJmEsZMiiRIZTqgvtGyCT_zhA%3D%3D\n"
     ]
    }
   ],
   "source": [
    "#create the webdriver instance\n",
    "driver = webdriver.Chrome(\"C:/Users/NAKUL LAKHOTIA/Downloads/chromedriver_win32/chromedriver.exe\")\n",
    "#Create an empty list to store all the video URLs from the youtube.com page\n",
    "links= []\n",
    "\n",
    "#Create Recognizer() class objects called recog1 and recog2\n",
    "recog1 = spr.Recognizer()\n",
    "recog2 = spr.Recognizer()\n",
    "#Create microphone instance with device microphone chosen whose index value is 0\n",
    "mc = spr.Microphone(device_index=0)\n",
    "\n",
    "#Capture voice\n",
    "with mc as source:\n",
    "    print(\"Search Youtube video to play\")\n",
    "    print(\"----------------------------\")\n",
    "    print(\"You can speak now\")\n",
    "    audio = recog1.listen(source)\n",
    "    print(recog1.recognize_google(audio))\n",
    "    \n",
    "#Based on speech, open youtube search page in a browser, get the first video link and open video in a new browser\n",
    "if 'search' in recog1.recognize_google(audio):\n",
    "    recog1 = spr.Recognizer()\n",
    "    url = 'https://www.youtube.com/results?search_query='\n",
    "    with mc as source:\n",
    "        print('Searching for the video(s)...')\n",
    "        audio = recog2.listen(source)\n",
    "        \n",
    "        try:\n",
    "            get_keyword = recog1.recognize_google(audio)\n",
    "            print(get_keyword)\n",
    "            driver.get(url+get_keyword)\n",
    "            user_data = driver.find_elements_by_xpath('//*[@id=\"video-title\"]')\n",
    "            for i in user_data:\n",
    "                links.append(i.get_attribute('href'))\n",
    "\n",
    "            print(\"List of all links returned:\")\n",
    "            print(linklist)\n",
    "            #create a pafy object\n",
    "            videolink = pafy.new(linklist[0])\n",
    "            #Select the stream with the highest resolution - audio & video\n",
    "            bestlink = videolink.getbest()\n",
    "            print(\"Best Link is: \",bestlink.url)\n",
    "    \n",
    "            driver.get(bestlink.url)\n",
    "        except spr.UnknownValueError:\n",
    "            print(\"Unable to understand the input\")\n",
    "        except spr.RequestError as e:\n",
    "            print(\"Unable to provide required output\".format(e))    "
   ]
  },
  {
   "cell_type": "code",
   "execution_count": null,
   "metadata": {},
   "outputs": [],
   "source": []
  }
 ],
 "metadata": {
  "kernelspec": {
   "display_name": "Python 3",
   "language": "python",
   "name": "python3"
  },
  "language_info": {
   "codemirror_mode": {
    "name": "ipython",
    "version": 3
   },
   "file_extension": ".py",
   "mimetype": "text/x-python",
   "name": "python",
   "nbconvert_exporter": "python",
   "pygments_lexer": "ipython3",
   "version": "3.7.3"
  }
 },
 "nbformat": 4,
 "nbformat_minor": 2
}
